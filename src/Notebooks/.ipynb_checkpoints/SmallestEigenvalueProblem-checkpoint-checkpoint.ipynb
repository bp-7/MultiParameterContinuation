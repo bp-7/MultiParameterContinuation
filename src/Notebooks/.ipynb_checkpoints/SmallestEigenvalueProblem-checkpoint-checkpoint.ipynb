{
 "cells": [
  {
   "cell_type": "markdown",
   "id": "empty-found",
   "metadata": {},
   "source": [
    "# Smallest eigenvalue problem\n",
    "\n",
    "$\\newcommand{\\mapcom}[5]{\\begin{align*} #1 \\,:\\, #2& \\longrightarrow #3 \\\\ #4& \\longmapsto #5, \\end{align*}}$\n",
    "$\\newcommand{\\Rset}{\\mathbb{R}}$\n",
    "We look here at the case where we would like to find the smallest eigenvalue of a real symmetric parameterized matrix $$\\mapcom{A}{\\mathcal{P}\\subset\\Rset^p}{\\Rset^{n\\times n}}{\\mu}{A(\\mu)}$$ with eigenvalues $\\lambda_1< \\dots\\le\\lambda_n$. The parameter space $\\mathcal{P}$ is considered to be an open bounder connected subset of $\\Rset^p$. \n",
    "The smallest eigenvalue $\\lambda_1=\\lambda_1(\\mu)\\in\\Rset$, can be determined by the study of the Rayleigh quotient as follow \n",
    "$$\n",
    "\t\\lambda_1(\\mu) = \\min_{x\\in\\Rset^n} \\frac{x^TA(\\mu)x}{x^Tx} = \\min_{x^Tx = 1} x^TA(\\mu)x.\n",
    "$$\n",
    "Therefore by defining a cost function $$\\mapcom{f}{S^{n-1}\\times\\mathcal{P}}{\\Rset}{(x,\\mu)}{\\frac{1}{2}x^TA(\\mu)x}$$ the problem is equivalent to solving the following minimization problem\n",
    "$$\n",
    "\t\\lambda_1 = \\min_{x \\in S^{n-1}} f(x,\\mu).\n",
    "$$"
   ]
  },
  {
   "cell_type": "markdown",
   "id": "qualified-abuse",
   "metadata": {},
   "source": [
    "##############################################################################################################\n",
    "##############################################################################################################"
   ]
  },
  {
   "cell_type": "markdown",
   "id": "following-disclaimer",
   "metadata": {},
   "source": [
    "## First test case, $n=3, p=2$, smooth eigenvalues: \n",
    "We consider a mapping $A$ defined for any $\\mu=(\\mu_1, \\mu_2)\\in\\Rset^2$ by \n",
    "\n",
    "$$\n",
    "A(\\mu) = \\begin{pmatrix} \\lambda_1(\\mu) & -1 & 0 \\\\ -1 & \\lambda_2(\\mu) & 1 \\\\ 0 & 1 & \\lambda_3(\\mu) \\end{pmatrix},\n",
    "$$\n",
    "\n",
    "with $\\lambda_1(\\mu) = 1 + \\exp(\\frac{\\mu_1 - \\mu_2}{\\sigma}), \\lambda_2(\\mu) = 2 + \\exp(\\frac{3\\mu_1 + \\mu_2}{\\sigma}), \\lambda_3(\\mu) = 3 + \\exp(\\frac{\\mu_1 + \\mu_2}{\\sigma})$, $\\sigma \\in\\Rset$."
   ]
  },
  {
   "cell_type": "code",
   "execution_count": 1,
   "id": "respective-swiss",
   "metadata": {},
   "outputs": [],
   "source": [
    "import autograd.numpy as np"
   ]
  },
  {
   "cell_type": "code",
   "execution_count": 2,
   "id": "creative-subcommittee",
   "metadata": {},
   "outputs": [],
   "source": [
    "from pymanopt.manifolds import Sphere\n",
    "\n",
    "# Dimension of the sphere \n",
    "solutionSpaceDimension = 3\n",
    "\n",
    "# Instantiate the unit sphere manifold\n",
    "unitSphere = Sphere(solutionSpaceDimension)"
   ]
  },
  {
   "cell_type": "code",
   "execution_count": 3,
   "id": "understood-dairy",
   "metadata": {},
   "outputs": [],
   "source": [
    "from pymanopt.manifolds import Euclidean\n",
    "\n",
    "# Dimension of the parameter space \n",
    "parameterSpaceDimension = 2\n",
    "\n",
    "# Instantiate the parameter space \n",
    "parameterSpace = Euclidean(parameterSpaceDimension)"
   ]
  },
  {
   "cell_type": "code",
   "execution_count": 4,
   "id": "nominated-paragraph",
   "metadata": {},
   "outputs": [],
   "source": [
    "from pymanopt.manifolds import Product\n",
    "\n",
    "productManifold = Product([unitSphere, parameterSpace])"
   ]
  },
  {
   "cell_type": "markdown",
   "id": "entire-compilation",
   "metadata": {},
   "source": [
    "## Computation of  $DA(\\mu)[v]$\n",
    "\n",
    "Here we give an explicit form for the differential of $A$ at $\\mu\\in\\mathcal{P}$ along $v\\in\\mathcal{P}$. We have that \n",
    "\n",
    "$$\n",
    "    DA(\\mu)[v] = \\begin{pmatrix} \\frac{v_1 - v_2}{\\sigma} \\exp(\\frac{\\mu_1 - \\mu_2}{\\sigma}) & & \\\\ & \\frac{3v_1 + v_2}{\\sigma} \\exp(\\frac{3\\mu_1 + \\mu_2}{\\sigma}) & \\\\ & & \\frac{v_1 + v_2}{\\sigma} \\exp(\\frac{\\mu_1 + \\mu_2}{\\sigma}) \\end{pmatrix}\n",
    "$$"
   ]
  },
  {
   "cell_type": "code",
   "execution_count": 5,
   "id": "automotive-grove",
   "metadata": {},
   "outputs": [],
   "source": [
    "def A(mu):\n",
    "    sigma = 100\n",
    "    lambda0 = 1 + np.exp((mu[0] - mu[1]) / sigma)\n",
    "    lambda1 = 2 + np.exp((3 * mu[0] + mu[1]) / sigma)\n",
    "    lambda2 = 3 + np.exp((mu[0] + mu[1]) / sigma)\n",
    "    \n",
    "    return np.array([[lambda0, -1, 0], [-1, lambda1, -1], [0, -1, lambda2]])\n",
    "\n",
    "def DA(mu,v):\n",
    "    sigma = 100\n",
    "    Dlambda0 = (v[0] - v[1]) / sigma * np.exp((mu[0] - mu[1]) / sigma)\n",
    "    Dlambda1 = (3 * v[0] + v[1]) / sigma * np.exp((3 * mu[0] + mu[1]) / sigma)\n",
    "    Dlambda2 = (v[0] + v[1]) / sigma * np.exp((mu[0] + mu[1]) / sigma)\n",
    "    \n",
    "    return np.array([[Dlambda0, 0, 0], [0, Dlambda1, 0], [0, 0, Dlambda2]])"
   ]
  },
  {
   "cell_type": "markdown",
   "id": "noticed-hearing",
   "metadata": {},
   "source": [
    "### Compute $D_x\\operatorname{grad} f(x,\\mu)$ and $D_\\mu\\operatorname{grad} f(x,\\mu)$ "
   ]
  },
  {
   "cell_type": "code",
   "execution_count": 6,
   "id": "governmental-sacramento",
   "metadata": {},
   "outputs": [],
   "source": [
    "# Define derivatives of gradient wrt solution/parameter\n",
    "\n",
    "def differentialSolutionAlongV(x, mu, xi):\n",
    "    return A(mu) @ xi - 2 * (x.T @ A(mu) @ xi) * x - (x.T @ A(mu) @ x) * xi\n",
    "\n",
    "#def differentialParameterAlongV(x, mu, v):\n",
    "#    return np.eye(solutionSpaceDimension)\n",
    "def differentialParameterAlongV(x, mu, v):\n",
    "    return (np.eye(solutionSpaceDimension) - np.outer(x, x)) @ DA(mu, v) @ x\n",
    "    "
   ]
  },
  {
   "cell_type": "markdown",
   "id": "upset-wages",
   "metadata": {},
   "source": [
    "### Define cost function $f$ and instantiate optimization problem"
   ]
  },
  {
   "cell_type": "code",
   "execution_count": 7,
   "id": "nominated-heather",
   "metadata": {},
   "outputs": [],
   "source": [
    "from pymanopt.core.problem import Problem \n",
    "\n",
    "def cost(S):\n",
    "    return np.dot(S[0], A(S[1]) @ S[0])\n",
    "\n",
    "problem = Problem(productManifold, cost=cost)"
   ]
  },
  {
   "cell_type": "markdown",
   "id": "minus-constant",
   "metadata": {},
   "source": [
    "### Define initial/target parameters and initial solution to the problem "
   ]
  },
  {
   "cell_type": "code",
   "execution_count": 8,
   "id": "anonymous-invasion",
   "metadata": {},
   "outputs": [],
   "source": [
    "initialParameter = np.array([1, 2])\n",
    "targetParameter = np.array([23., 30.])\n",
    "\n",
    "B = A(initialParameter)\n",
    "C = A(targetParameter)\n",
    "\n",
    "w, v = np.linalg.eig(B)\n",
    "wC, vC = np.linalg.eig(C)\n",
    "\n",
    "initialSolution = v[:, np.argmin(w)]\n",
    "finalSolution = vC[:, np.argmin(wC)]"
   ]
  },
  {
   "cell_type": "code",
   "execution_count": 10,
   "id": "criminal-melbourne",
   "metadata": {},
   "outputs": [
    {
     "ename": "ModuleNotFoundError",
     "evalue": "No module named 'Continuation'",
     "output_type": "error",
     "traceback": [
      "\u001b[1;31m---------------------------------------------------------------------------\u001b[0m",
      "\u001b[1;31mModuleNotFoundError\u001b[0m                       Traceback (most recent call last)",
      "\u001b[1;32m<ipython-input-10-0f0c29af4abc>\u001b[0m in \u001b[0;36m<module>\u001b[1;34m\u001b[0m\n\u001b[1;32m----> 1\u001b[1;33m \u001b[1;32mfrom\u001b[0m \u001b[0mContinuation\u001b[0m\u001b[1;33m.\u001b[0m\u001b[0mPathAdaptiveContinuation\u001b[0m \u001b[1;32mimport\u001b[0m \u001b[0mPathAdaptiveMultiParameterContinuation\u001b[0m\u001b[1;33m\u001b[0m\u001b[1;33m\u001b[0m\u001b[0m\n\u001b[0m\u001b[0;32m      2\u001b[0m \u001b[1;33m\u001b[0m\u001b[0m\n\u001b[0;32m      3\u001b[0m \u001b[0mparameterMagnitude\u001b[0m \u001b[1;33m=\u001b[0m \u001b[1;36m0.5\u001b[0m \u001b[1;33m*\u001b[0m \u001b[1;36m1e-1\u001b[0m\u001b[1;33m\u001b[0m\u001b[1;33m\u001b[0m\u001b[0m\n\u001b[0;32m      4\u001b[0m \u001b[1;33m\u001b[0m\u001b[0m\n\u001b[0;32m      5\u001b[0m \u001b[1;31m# Instantiate continuation object\u001b[0m\u001b[1;33m\u001b[0m\u001b[1;33m\u001b[0m\u001b[1;33m\u001b[0m\u001b[0m\n",
      "\u001b[1;31mModuleNotFoundError\u001b[0m: No module named 'Continuation'"
     ]
    }
   ],
   "source": [
    "from Continuation.PathAdaptiveContinuation import PathAdaptiveMultiParameterContinuation\n",
    "\n",
    "parameterMagnitude = 0.5 * 1e-1\n",
    "\n",
    "# Instantiate continuation object\n",
    "continuation = PathAdaptiveMultiParameterContinuation(problem, \n",
    "                                                      initialSolution,\n",
    "                                                      initialParameter,\n",
    "                                                      targetParameter,\n",
    "                                                      differentialSolutionAlongV, \n",
    "                                                      differentialParameterAlongV,\n",
    "                                                      A,\n",
    "                                                      parameterMagnitude)\n",
    "results = continuation.Traverse()"
   ]
  },
  {
   "cell_type": "markdown",
   "id": "liberal-sociology",
   "metadata": {},
   "source": [
    "# Visualization of results"
   ]
  },
  {
   "cell_type": "code",
   "execution_count": null,
   "id": "guided-tonight",
   "metadata": {},
   "outputs": [],
   "source": [
    "%matplotlib notebook\n",
    "from Visualization.visualization import SubplotAnimation\n",
    "\n",
    "ani = SubplotAnimation(results, \n",
    "                       parameterMagnitude, \n",
    "                       targetParameter, \n",
    "                       finalSolution, \n",
    "                       differentialParameterAlongV, \n",
    "                       differentialSolutionAlongV)\n",
    "\n",
    "ani.show()"
   ]
  }
 ],
 "metadata": {
  "kernelspec": {
   "display_name": "Python 3",
   "language": "python",
   "name": "python3"
  },
  "language_info": {
   "codemirror_mode": {
    "name": "ipython",
    "version": 3
   },
   "file_extension": ".py",
   "mimetype": "text/x-python",
   "name": "python",
   "nbconvert_exporter": "python",
   "pygments_lexer": "ipython3",
   "version": "3.9.2"
  }
 },
 "nbformat": 4,
 "nbformat_minor": 5
}
